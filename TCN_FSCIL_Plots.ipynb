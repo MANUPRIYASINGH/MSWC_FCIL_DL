{
  "nbformat": 4,
  "nbformat_minor": 0,
  "metadata": {
    "colab": {
      "provenance": [],
      "authorship_tag": "ABX9TyMcx60CA11m8SOmMgRThfy2",
      "include_colab_link": true
    },
    "kernelspec": {
      "name": "python3",
      "display_name": "Python 3"
    },
    "language_info": {
      "name": "python"
    }
  },
  "cells": [
    {
      "cell_type": "markdown",
      "metadata": {
        "id": "view-in-github",
        "colab_type": "text"
      },
      "source": [
        "<a href=\"https://colab.research.google.com/github/MANUPRIYASINGH/MSWC_FSCIL_Reproduction/blob/main/TCN_FSCIL_Plots.ipynb\" target=\"_parent\"><img src=\"https://colab.research.google.com/assets/colab-badge.svg\" alt=\"Open In Colab\"/></a>"
      ]
    },
    {
      "cell_type": "code",
      "execution_count": 1,
      "metadata": {
        "colab": {
          "base_uri": "https://localhost:8080/",
          "height": 1000
        },
        "id": "1JfeZqHfvYqK",
        "outputId": "3ab6afdb-4b3d-4786-fbdf-c37386e2d27d"
      },
      "outputs": [
        {
          "output_type": "stream",
          "name": "stdout",
          "text": [
            "Collecting neurobench\n",
            "  Downloading neurobench-1.0.5-py3-none-any.whl (52 kB)\n",
            "\u001b[2K     \u001b[90m━━━━━━━━━━━━━━━━━━━━━━━━━━━━━━━━━━━━━━━━\u001b[0m \u001b[32m52.4/52.4 kB\u001b[0m \u001b[31m2.1 MB/s\u001b[0m eta \u001b[36m0:00:00\u001b[0m\n",
            "\u001b[?25hCollecting llvmlite<0.41.0,>=0.40.1 (from neurobench)\n",
            "  Downloading llvmlite-0.40.1-cp310-cp310-manylinux_2_17_x86_64.manylinux2014_x86_64.whl (42.1 MB)\n",
            "\u001b[2K     \u001b[90m━━━━━━━━━━━━━━━━━━━━━━━━━━━━━━━━━━━━━━━━\u001b[0m \u001b[32m42.1/42.1 MB\u001b[0m \u001b[31m15.2 MB/s\u001b[0m eta \u001b[36m0:00:00\u001b[0m\n",
            "\u001b[?25hCollecting numba<0.58.0,>=0.57.1 (from neurobench)\n",
            "  Downloading numba-0.57.1-cp310-cp310-manylinux2014_x86_64.manylinux_2_17_x86_64.whl (3.6 MB)\n",
            "\u001b[2K     \u001b[90m━━━━━━━━━━━━━━━━━━━━━━━━━━━━━━━━━━━━━━━━\u001b[0m \u001b[32m3.6/3.6 MB\u001b[0m \u001b[31m53.3 MB/s\u001b[0m eta \u001b[36m0:00:00\u001b[0m\n",
            "\u001b[?25hRequirement already satisfied: numpy<2.0.0,>=1.24.3 in /usr/local/lib/python3.10/dist-packages (from neurobench) (1.25.2)\n",
            "Collecting snntorch<0.8.0,>=0.7.0 (from neurobench)\n",
            "  Downloading snntorch-0.7.0-py2.py3-none-any.whl (108 kB)\n",
            "\u001b[2K     \u001b[90m━━━━━━━━━━━━━━━━━━━━━━━━━━━━━━━━━━━━━━━━\u001b[0m \u001b[32m109.0/109.0 kB\u001b[0m \u001b[31m14.3 MB/s\u001b[0m eta \u001b[36m0:00:00\u001b[0m\n",
            "\u001b[?25hCollecting tonic<2.0.0,>=1.4.0 (from neurobench)\n",
            "  Downloading tonic-1.4.3-py3-none-any.whl (110 kB)\n",
            "\u001b[2K     \u001b[90m━━━━━━━━━━━━━━━━━━━━━━━━━━━━━━━━━━━━━━━━\u001b[0m \u001b[32m110.7/110.7 kB\u001b[0m \u001b[31m15.4 MB/s\u001b[0m eta \u001b[36m0:00:00\u001b[0m\n",
            "\u001b[?25hRequirement already satisfied: torch<3.0.0,>=2.0.1 in /usr/local/lib/python3.10/dist-packages (from neurobench) (2.3.0+cu121)\n",
            "Requirement already satisfied: torchaudio<3.0.0,>=2.0.2 in /usr/local/lib/python3.10/dist-packages (from neurobench) (2.3.0+cu121)\n",
            "Requirement already satisfied: tqdm<5.0.0,>=4.65.0 in /usr/local/lib/python3.10/dist-packages (from neurobench) (4.66.4)\n",
            "Collecting numpy<2.0.0,>=1.24.3 (from neurobench)\n",
            "  Downloading numpy-1.24.4-cp310-cp310-manylinux_2_17_x86_64.manylinux2014_x86_64.whl (17.3 MB)\n",
            "\u001b[2K     \u001b[90m━━━━━━━━━━━━━━━━━━━━━━━━━━━━━━━━━━━━━━━━\u001b[0m \u001b[32m17.3/17.3 MB\u001b[0m \u001b[31m65.6 MB/s\u001b[0m eta \u001b[36m0:00:00\u001b[0m\n",
            "\u001b[?25hRequirement already satisfied: pandas in /usr/local/lib/python3.10/dist-packages (from snntorch<0.8.0,>=0.7.0->neurobench) (2.0.3)\n",
            "Requirement already satisfied: matplotlib in /usr/local/lib/python3.10/dist-packages (from snntorch<0.8.0,>=0.7.0->neurobench) (3.7.1)\n",
            "Collecting nir (from snntorch<0.8.0,>=0.7.0->neurobench)\n",
            "  Downloading nir-1.0.4-py3-none-any.whl (18 kB)\n",
            "Collecting nirtorch (from snntorch<0.8.0,>=0.7.0->neurobench)\n",
            "  Downloading nirtorch-1.0-py3-none-any.whl (13 kB)\n",
            "Requirement already satisfied: h5py in /usr/local/lib/python3.10/dist-packages (from tonic<2.0.0,>=1.4.0->neurobench) (3.9.0)\n",
            "Collecting importRosbag>=1.0.4 (from tonic<2.0.0,>=1.4.0->neurobench)\n",
            "  Downloading importRosbag-1.0.4-py3-none-any.whl (28 kB)\n",
            "Requirement already satisfied: scipy in /usr/local/lib/python3.10/dist-packages (from tonic<2.0.0,>=1.4.0->neurobench) (1.11.4)\n",
            "Requirement already satisfied: typing-extensions in /usr/local/lib/python3.10/dist-packages (from tonic<2.0.0,>=1.4.0->neurobench) (4.12.2)\n",
            "Requirement already satisfied: librosa in /usr/local/lib/python3.10/dist-packages (from tonic<2.0.0,>=1.4.0->neurobench) (0.10.2.post1)\n",
            "Collecting pbr (from tonic<2.0.0,>=1.4.0->neurobench)\n",
            "  Downloading pbr-6.0.0-py2.py3-none-any.whl (107 kB)\n",
            "\u001b[2K     \u001b[90m━━━━━━━━━━━━━━━━━━━━━━━━━━━━━━━━━━━━━━━━\u001b[0m \u001b[32m107.5/107.5 kB\u001b[0m \u001b[31m14.3 MB/s\u001b[0m eta \u001b[36m0:00:00\u001b[0m\n",
            "\u001b[?25hCollecting expelliarmus (from tonic<2.0.0,>=1.4.0->neurobench)\n",
            "  Downloading expelliarmus-1.1.12-cp310-cp310-manylinux_2_5_x86_64.manylinux1_x86_64.manylinux_2_17_x86_64.manylinux2014_x86_64.whl (50 kB)\n",
            "\u001b[2K     \u001b[90m━━━━━━━━━━━━━━━━━━━━━━━━━━━━━━━━━━━━━━━━\u001b[0m \u001b[32m50.4/50.4 kB\u001b[0m \u001b[31m3.6 MB/s\u001b[0m eta \u001b[36m0:00:00\u001b[0m\n",
            "\u001b[?25hRequirement already satisfied: filelock in /usr/local/lib/python3.10/dist-packages (from torch<3.0.0,>=2.0.1->neurobench) (3.15.4)\n",
            "Requirement already satisfied: sympy in /usr/local/lib/python3.10/dist-packages (from torch<3.0.0,>=2.0.1->neurobench) (1.12.1)\n",
            "Requirement already satisfied: networkx in /usr/local/lib/python3.10/dist-packages (from torch<3.0.0,>=2.0.1->neurobench) (3.3)\n",
            "Requirement already satisfied: jinja2 in /usr/local/lib/python3.10/dist-packages (from torch<3.0.0,>=2.0.1->neurobench) (3.1.4)\n",
            "Requirement already satisfied: fsspec in /usr/local/lib/python3.10/dist-packages (from torch<3.0.0,>=2.0.1->neurobench) (2023.6.0)\n",
            "Collecting nvidia-cuda-nvrtc-cu12==12.1.105 (from torch<3.0.0,>=2.0.1->neurobench)\n",
            "  Using cached nvidia_cuda_nvrtc_cu12-12.1.105-py3-none-manylinux1_x86_64.whl (23.7 MB)\n",
            "Collecting nvidia-cuda-runtime-cu12==12.1.105 (from torch<3.0.0,>=2.0.1->neurobench)\n",
            "  Using cached nvidia_cuda_runtime_cu12-12.1.105-py3-none-manylinux1_x86_64.whl (823 kB)\n",
            "Collecting nvidia-cuda-cupti-cu12==12.1.105 (from torch<3.0.0,>=2.0.1->neurobench)\n",
            "  Using cached nvidia_cuda_cupti_cu12-12.1.105-py3-none-manylinux1_x86_64.whl (14.1 MB)\n",
            "Collecting nvidia-cudnn-cu12==8.9.2.26 (from torch<3.0.0,>=2.0.1->neurobench)\n",
            "  Using cached nvidia_cudnn_cu12-8.9.2.26-py3-none-manylinux1_x86_64.whl (731.7 MB)\n",
            "Collecting nvidia-cublas-cu12==12.1.3.1 (from torch<3.0.0,>=2.0.1->neurobench)\n",
            "  Using cached nvidia_cublas_cu12-12.1.3.1-py3-none-manylinux1_x86_64.whl (410.6 MB)\n",
            "Collecting nvidia-cufft-cu12==11.0.2.54 (from torch<3.0.0,>=2.0.1->neurobench)\n",
            "  Using cached nvidia_cufft_cu12-11.0.2.54-py3-none-manylinux1_x86_64.whl (121.6 MB)\n",
            "Collecting nvidia-curand-cu12==10.3.2.106 (from torch<3.0.0,>=2.0.1->neurobench)\n",
            "  Using cached nvidia_curand_cu12-10.3.2.106-py3-none-manylinux1_x86_64.whl (56.5 MB)\n",
            "Collecting nvidia-cusolver-cu12==11.4.5.107 (from torch<3.0.0,>=2.0.1->neurobench)\n",
            "  Using cached nvidia_cusolver_cu12-11.4.5.107-py3-none-manylinux1_x86_64.whl (124.2 MB)\n",
            "Collecting nvidia-cusparse-cu12==12.1.0.106 (from torch<3.0.0,>=2.0.1->neurobench)\n",
            "  Using cached nvidia_cusparse_cu12-12.1.0.106-py3-none-manylinux1_x86_64.whl (196.0 MB)\n",
            "Collecting nvidia-nccl-cu12==2.20.5 (from torch<3.0.0,>=2.0.1->neurobench)\n",
            "  Using cached nvidia_nccl_cu12-2.20.5-py3-none-manylinux2014_x86_64.whl (176.2 MB)\n",
            "Collecting nvidia-nvtx-cu12==12.1.105 (from torch<3.0.0,>=2.0.1->neurobench)\n",
            "  Using cached nvidia_nvtx_cu12-12.1.105-py3-none-manylinux1_x86_64.whl (99 kB)\n",
            "Requirement already satisfied: triton==2.3.0 in /usr/local/lib/python3.10/dist-packages (from torch<3.0.0,>=2.0.1->neurobench) (2.3.0)\n",
            "Collecting nvidia-nvjitlink-cu12 (from nvidia-cusolver-cu12==11.4.5.107->torch<3.0.0,>=2.0.1->neurobench)\n",
            "  Downloading nvidia_nvjitlink_cu12-12.5.82-py3-none-manylinux2014_x86_64.whl (21.3 MB)\n",
            "\u001b[2K     \u001b[90m━━━━━━━━━━━━━━━━━━━━━━━━━━━━━━━━━━━━━━━━\u001b[0m \u001b[32m21.3/21.3 MB\u001b[0m \u001b[31m62.2 MB/s\u001b[0m eta \u001b[36m0:00:00\u001b[0m\n",
            "\u001b[?25hRequirement already satisfied: setuptools in /usr/local/lib/python3.10/dist-packages (from importRosbag>=1.0.4->tonic<2.0.0,>=1.4.0->neurobench) (67.7.2)\n",
            "Requirement already satisfied: MarkupSafe>=2.0 in /usr/local/lib/python3.10/dist-packages (from jinja2->torch<3.0.0,>=2.0.1->neurobench) (2.1.5)\n",
            "Requirement already satisfied: audioread>=2.1.9 in /usr/local/lib/python3.10/dist-packages (from librosa->tonic<2.0.0,>=1.4.0->neurobench) (3.0.1)\n",
            "Requirement already satisfied: scikit-learn>=0.20.0 in /usr/local/lib/python3.10/dist-packages (from librosa->tonic<2.0.0,>=1.4.0->neurobench) (1.2.2)\n",
            "Requirement already satisfied: joblib>=0.14 in /usr/local/lib/python3.10/dist-packages (from librosa->tonic<2.0.0,>=1.4.0->neurobench) (1.4.2)\n",
            "Requirement already satisfied: decorator>=4.3.0 in /usr/local/lib/python3.10/dist-packages (from librosa->tonic<2.0.0,>=1.4.0->neurobench) (4.4.2)\n",
            "Requirement already satisfied: soundfile>=0.12.1 in /usr/local/lib/python3.10/dist-packages (from librosa->tonic<2.0.0,>=1.4.0->neurobench) (0.12.1)\n",
            "Requirement already satisfied: pooch>=1.1 in /usr/local/lib/python3.10/dist-packages (from librosa->tonic<2.0.0,>=1.4.0->neurobench) (1.8.2)\n",
            "Requirement already satisfied: soxr>=0.3.2 in /usr/local/lib/python3.10/dist-packages (from librosa->tonic<2.0.0,>=1.4.0->neurobench) (0.3.7)\n",
            "Requirement already satisfied: lazy-loader>=0.1 in /usr/local/lib/python3.10/dist-packages (from librosa->tonic<2.0.0,>=1.4.0->neurobench) (0.4)\n",
            "Requirement already satisfied: msgpack>=1.0 in /usr/local/lib/python3.10/dist-packages (from librosa->tonic<2.0.0,>=1.4.0->neurobench) (1.0.8)\n",
            "Requirement already satisfied: contourpy>=1.0.1 in /usr/local/lib/python3.10/dist-packages (from matplotlib->snntorch<0.8.0,>=0.7.0->neurobench) (1.2.1)\n",
            "Requirement already satisfied: cycler>=0.10 in /usr/local/lib/python3.10/dist-packages (from matplotlib->snntorch<0.8.0,>=0.7.0->neurobench) (0.12.1)\n",
            "Requirement already satisfied: fonttools>=4.22.0 in /usr/local/lib/python3.10/dist-packages (from matplotlib->snntorch<0.8.0,>=0.7.0->neurobench) (4.53.0)\n",
            "Requirement already satisfied: kiwisolver>=1.0.1 in /usr/local/lib/python3.10/dist-packages (from matplotlib->snntorch<0.8.0,>=0.7.0->neurobench) (1.4.5)\n",
            "Requirement already satisfied: packaging>=20.0 in /usr/local/lib/python3.10/dist-packages (from matplotlib->snntorch<0.8.0,>=0.7.0->neurobench) (24.1)\n",
            "Requirement already satisfied: pillow>=6.2.0 in /usr/local/lib/python3.10/dist-packages (from matplotlib->snntorch<0.8.0,>=0.7.0->neurobench) (9.4.0)\n",
            "Requirement already satisfied: pyparsing>=2.3.1 in /usr/local/lib/python3.10/dist-packages (from matplotlib->snntorch<0.8.0,>=0.7.0->neurobench) (3.1.2)\n",
            "Requirement already satisfied: python-dateutil>=2.7 in /usr/local/lib/python3.10/dist-packages (from matplotlib->snntorch<0.8.0,>=0.7.0->neurobench) (2.8.2)\n",
            "Requirement already satisfied: pytz>=2020.1 in /usr/local/lib/python3.10/dist-packages (from pandas->snntorch<0.8.0,>=0.7.0->neurobench) (2023.4)\n",
            "Requirement already satisfied: tzdata>=2022.1 in /usr/local/lib/python3.10/dist-packages (from pandas->snntorch<0.8.0,>=0.7.0->neurobench) (2024.1)\n",
            "Requirement already satisfied: mpmath<1.4.0,>=1.1.0 in /usr/local/lib/python3.10/dist-packages (from sympy->torch<3.0.0,>=2.0.1->neurobench) (1.3.0)\n",
            "Requirement already satisfied: platformdirs>=2.5.0 in /usr/local/lib/python3.10/dist-packages (from pooch>=1.1->librosa->tonic<2.0.0,>=1.4.0->neurobench) (4.2.2)\n",
            "Requirement already satisfied: requests>=2.19.0 in /usr/local/lib/python3.10/dist-packages (from pooch>=1.1->librosa->tonic<2.0.0,>=1.4.0->neurobench) (2.31.0)\n",
            "Requirement already satisfied: six>=1.5 in /usr/local/lib/python3.10/dist-packages (from python-dateutil>=2.7->matplotlib->snntorch<0.8.0,>=0.7.0->neurobench) (1.16.0)\n",
            "Requirement already satisfied: threadpoolctl>=2.0.0 in /usr/local/lib/python3.10/dist-packages (from scikit-learn>=0.20.0->librosa->tonic<2.0.0,>=1.4.0->neurobench) (3.5.0)\n",
            "Requirement already satisfied: cffi>=1.0 in /usr/local/lib/python3.10/dist-packages (from soundfile>=0.12.1->librosa->tonic<2.0.0,>=1.4.0->neurobench) (1.16.0)\n",
            "Requirement already satisfied: pycparser in /usr/local/lib/python3.10/dist-packages (from cffi>=1.0->soundfile>=0.12.1->librosa->tonic<2.0.0,>=1.4.0->neurobench) (2.22)\n",
            "Requirement already satisfied: charset-normalizer<4,>=2 in /usr/local/lib/python3.10/dist-packages (from requests>=2.19.0->pooch>=1.1->librosa->tonic<2.0.0,>=1.4.0->neurobench) (3.3.2)\n",
            "Requirement already satisfied: idna<4,>=2.5 in /usr/local/lib/python3.10/dist-packages (from requests>=2.19.0->pooch>=1.1->librosa->tonic<2.0.0,>=1.4.0->neurobench) (3.7)\n",
            "Requirement already satisfied: urllib3<3,>=1.21.1 in /usr/local/lib/python3.10/dist-packages (from requests>=2.19.0->pooch>=1.1->librosa->tonic<2.0.0,>=1.4.0->neurobench) (2.0.7)\n",
            "Requirement already satisfied: certifi>=2017.4.17 in /usr/local/lib/python3.10/dist-packages (from requests>=2.19.0->pooch>=1.1->librosa->tonic<2.0.0,>=1.4.0->neurobench) (2024.6.2)\n",
            "Installing collected packages: pbr, nvidia-nvtx-cu12, nvidia-nvjitlink-cu12, nvidia-nccl-cu12, nvidia-curand-cu12, nvidia-cufft-cu12, nvidia-cuda-runtime-cu12, nvidia-cuda-nvrtc-cu12, nvidia-cuda-cupti-cu12, nvidia-cublas-cu12, numpy, llvmlite, nvidia-cusparse-cu12, nvidia-cudnn-cu12, numba, importRosbag, expelliarmus, nvidia-cusolver-cu12, nir, tonic, nirtorch, snntorch, neurobench\n",
            "  Attempting uninstall: numpy\n",
            "    Found existing installation: numpy 1.25.2\n",
            "    Uninstalling numpy-1.25.2:\n",
            "      Successfully uninstalled numpy-1.25.2\n",
            "  Attempting uninstall: llvmlite\n",
            "    Found existing installation: llvmlite 0.41.1\n",
            "    Uninstalling llvmlite-0.41.1:\n",
            "      Successfully uninstalled llvmlite-0.41.1\n",
            "  Attempting uninstall: numba\n",
            "    Found existing installation: numba 0.58.1\n",
            "    Uninstalling numba-0.58.1:\n",
            "      Successfully uninstalled numba-0.58.1\n",
            "\u001b[31mERROR: pip's dependency resolver does not currently take into account all the packages that are installed. This behaviour is the source of the following dependency conflicts.\n",
            "pandas-stubs 2.0.3.230814 requires numpy>=1.25.0; python_version >= \"3.9\", but you have numpy 1.24.4 which is incompatible.\u001b[0m\u001b[31m\n",
            "\u001b[0mSuccessfully installed expelliarmus-1.1.12 importRosbag-1.0.4 llvmlite-0.40.1 neurobench-1.0.5 nir-1.0.4 nirtorch-1.0 numba-0.57.1 numpy-1.24.4 nvidia-cublas-cu12-12.1.3.1 nvidia-cuda-cupti-cu12-12.1.105 nvidia-cuda-nvrtc-cu12-12.1.105 nvidia-cuda-runtime-cu12-12.1.105 nvidia-cudnn-cu12-8.9.2.26 nvidia-cufft-cu12-11.0.2.54 nvidia-curand-cu12-10.3.2.106 nvidia-cusolver-cu12-11.4.5.107 nvidia-cusparse-cu12-12.1.0.106 nvidia-nccl-cu12-2.20.5 nvidia-nvjitlink-cu12-12.5.82 nvidia-nvtx-cu12-12.1.105 pbr-6.0.0 snntorch-0.7.0 tonic-1.4.3\n"
          ]
        },
        {
          "output_type": "display_data",
          "data": {
            "application/vnd.colab-display-data+json": {
              "pip_warning": {
                "packages": [
                  "numpy"
                ]
              },
              "id": "4419c82e0d7046519b7866f4dc1bcf12"
            }
          },
          "metadata": {}
        }
      ],
      "source": [
        "!pip install neurobench"
      ]
    },
    {
      "cell_type": "code",
      "source": [
        "import copy\n",
        "import os\n",
        "\n",
        "import torch\n",
        "import torch.nn as nn\n",
        "import torch.nn.functional as F\n",
        "from torch.utils.data import DataLoader, ConcatDataset\n",
        "\n",
        "from neurobench.benchmarks import Benchmark\n",
        "from neurobench.datasets import MSWC\n",
        "from neurobench.datasets.MSWC_IncrementalLoader import IncrementalFewShot\n",
        "from tqdm import tqdm"
      ],
      "metadata": {
        "id": "LkhS2Wd3w7Xd"
      },
      "execution_count": 1,
      "outputs": []
    },
    {
      "cell_type": "code",
      "source": [
        "!git clone https://github.com/MANUPRIYASINGH/MSWC_FSCIL_Reproduction.git"
      ],
      "metadata": {
        "colab": {
          "base_uri": "https://localhost:8080/"
        },
        "id": "t6cegiyhzhTx",
        "outputId": "a4f9d5d2-3acd-4932-a412-d34d2d3bd4ed"
      },
      "execution_count": 2,
      "outputs": [
        {
          "output_type": "stream",
          "name": "stdout",
          "text": [
            "Cloning into 'MSWC_FSCIL_Reproduction'...\n",
            "remote: Enumerating objects: 66, done.\u001b[K\n",
            "remote: Counting objects: 100% (66/66), done.\u001b[K\n",
            "remote: Compressing objects: 100% (62/62), done.\u001b[K\n",
            "remote: Total 66 (delta 23), reused 0 (delta 0), pack-reused 0\u001b[K\n",
            "Receiving objects: 100% (66/66), 18.75 MiB | 14.64 MiB/s, done.\n",
            "Resolving deltas: 100% (23/23), done.\n"
          ]
        }
      ]
    },
    {
      "cell_type": "code",
      "source": [
        "cd MSWC_FSCIL_Reproduction/"
      ],
      "metadata": {
        "colab": {
          "base_uri": "https://localhost:8080/"
        },
        "id": "KrV5vbJEzj3q",
        "outputId": "f74dfb55-a01d-4b38-e7d5-92b3796df745"
      },
      "execution_count": 3,
      "outputs": [
        {
          "output_type": "stream",
          "name": "stdout",
          "text": [
            "/content/MSWC_FSCIL_Reproduction\n"
          ]
        }
      ]
    },
    {
      "cell_type": "code",
      "source": [
        "!pip install git+https://github.com/V0XNIHILI/TCN-library.git"
      ],
      "metadata": {
        "colab": {
          "base_uri": "https://localhost:8080/"
        },
        "id": "yVX6hpgzzmYl",
        "outputId": "198daf13-4210-4b04-de29-d62367156fde"
      },
      "execution_count": 4,
      "outputs": [
        {
          "output_type": "stream",
          "name": "stdout",
          "text": [
            "Collecting git+https://github.com/V0XNIHILI/TCN-library.git\n",
            "  Cloning https://github.com/V0XNIHILI/TCN-library.git to /tmp/pip-req-build-p9i38tdw\n",
            "  Running command git clone --filter=blob:none --quiet https://github.com/V0XNIHILI/TCN-library.git /tmp/pip-req-build-p9i38tdw\n",
            "  Resolved https://github.com/V0XNIHILI/TCN-library.git to commit a32c26e70cff873fb397871f7697ec56cc8d5116\n",
            "  Preparing metadata (setup.py) ... \u001b[?25l\u001b[?25hdone\n",
            "Requirement already satisfied: torch in /usr/local/lib/python3.10/dist-packages (from tcn-library==0.0.1) (2.3.0+cu121)\n",
            "Requirement already satisfied: filelock in /usr/local/lib/python3.10/dist-packages (from torch->tcn-library==0.0.1) (3.15.4)\n",
            "Requirement already satisfied: typing-extensions>=4.8.0 in /usr/local/lib/python3.10/dist-packages (from torch->tcn-library==0.0.1) (4.12.2)\n",
            "Requirement already satisfied: sympy in /usr/local/lib/python3.10/dist-packages (from torch->tcn-library==0.0.1) (1.12.1)\n",
            "Requirement already satisfied: networkx in /usr/local/lib/python3.10/dist-packages (from torch->tcn-library==0.0.1) (3.3)\n",
            "Requirement already satisfied: jinja2 in /usr/local/lib/python3.10/dist-packages (from torch->tcn-library==0.0.1) (3.1.4)\n",
            "Requirement already satisfied: fsspec in /usr/local/lib/python3.10/dist-packages (from torch->tcn-library==0.0.1) (2023.6.0)\n",
            "Requirement already satisfied: nvidia-cuda-nvrtc-cu12==12.1.105 in /usr/local/lib/python3.10/dist-packages (from torch->tcn-library==0.0.1) (12.1.105)\n",
            "Requirement already satisfied: nvidia-cuda-runtime-cu12==12.1.105 in /usr/local/lib/python3.10/dist-packages (from torch->tcn-library==0.0.1) (12.1.105)\n",
            "Requirement already satisfied: nvidia-cuda-cupti-cu12==12.1.105 in /usr/local/lib/python3.10/dist-packages (from torch->tcn-library==0.0.1) (12.1.105)\n",
            "Requirement already satisfied: nvidia-cudnn-cu12==8.9.2.26 in /usr/local/lib/python3.10/dist-packages (from torch->tcn-library==0.0.1) (8.9.2.26)\n",
            "Requirement already satisfied: nvidia-cublas-cu12==12.1.3.1 in /usr/local/lib/python3.10/dist-packages (from torch->tcn-library==0.0.1) (12.1.3.1)\n",
            "Requirement already satisfied: nvidia-cufft-cu12==11.0.2.54 in /usr/local/lib/python3.10/dist-packages (from torch->tcn-library==0.0.1) (11.0.2.54)\n",
            "Requirement already satisfied: nvidia-curand-cu12==10.3.2.106 in /usr/local/lib/python3.10/dist-packages (from torch->tcn-library==0.0.1) (10.3.2.106)\n",
            "Requirement already satisfied: nvidia-cusolver-cu12==11.4.5.107 in /usr/local/lib/python3.10/dist-packages (from torch->tcn-library==0.0.1) (11.4.5.107)\n",
            "Requirement already satisfied: nvidia-cusparse-cu12==12.1.0.106 in /usr/local/lib/python3.10/dist-packages (from torch->tcn-library==0.0.1) (12.1.0.106)\n",
            "Requirement already satisfied: nvidia-nccl-cu12==2.20.5 in /usr/local/lib/python3.10/dist-packages (from torch->tcn-library==0.0.1) (2.20.5)\n",
            "Requirement already satisfied: nvidia-nvtx-cu12==12.1.105 in /usr/local/lib/python3.10/dist-packages (from torch->tcn-library==0.0.1) (12.1.105)\n",
            "Requirement already satisfied: triton==2.3.0 in /usr/local/lib/python3.10/dist-packages (from torch->tcn-library==0.0.1) (2.3.0)\n",
            "Requirement already satisfied: nvidia-nvjitlink-cu12 in /usr/local/lib/python3.10/dist-packages (from nvidia-cusolver-cu12==11.4.5.107->torch->tcn-library==0.0.1) (12.5.82)\n",
            "Requirement already satisfied: MarkupSafe>=2.0 in /usr/local/lib/python3.10/dist-packages (from jinja2->torch->tcn-library==0.0.1) (2.1.5)\n",
            "Requirement already satisfied: mpmath<1.4.0,>=1.1.0 in /usr/local/lib/python3.10/dist-packages (from sympy->torch->tcn-library==0.0.1) (1.3.0)\n",
            "Building wheels for collected packages: tcn-library\n",
            "  Building wheel for tcn-library (setup.py) ... \u001b[?25l\u001b[?25hdone\n",
            "  Created wheel for tcn-library: filename=tcn_library-0.0.1-py3-none-any.whl size=12922 sha256=76fd0228dab7a2d93f22a3e14398e74eff0de4d5e866be065a12486e8793fdbf\n",
            "  Stored in directory: /tmp/pip-ephem-wheel-cache-381fhu88/wheels/0c/56/1c/31842b9b5052d6df41c630521df68b0b12ddf10a0214d6766e\n",
            "Successfully built tcn-library\n",
            "Installing collected packages: tcn-library\n",
            "Successfully installed tcn-library-0.0.1\n"
          ]
        }
      ]
    },
    {
      "cell_type": "code",
      "source": [
        "# data in repo root dir\n",
        "ROOT = \"./data/\"\n",
        "\n",
        "NUM_WORKERS = 4\n",
        "BATCH_SIZE = 256\n",
        "NUM_SHOTS = 5 # How many shots to use for evaluation"
      ],
      "metadata": {
        "id": "PTtN57dPzsft"
      },
      "execution_count": 5,
      "outputs": []
    },
    {
      "cell_type": "code",
      "source": [
        "device = torch.device(\"cuda\" if torch.cuda.is_available() else \"cpu\")\n",
        "\n",
        "if device == torch.device(\"cuda\"):\n",
        "    PIN_MEMORY = True\n",
        "else:\n",
        "    PIN_MEMORY = False\n",
        "device"
      ],
      "metadata": {
        "colab": {
          "base_uri": "https://localhost:8080/"
        },
        "id": "OQn-fxLO0-9O",
        "outputId": "a858f9b0-421a-4d1e-9c0c-ed760001deb4"
      },
      "execution_count": 6,
      "outputs": [
        {
          "output_type": "execute_result",
          "data": {
            "text/plain": [
              "device(type='cpu')"
            ]
          },
          "metadata": {},
          "execution_count": 6
        }
      ]
    },
    {
      "cell_type": "code",
      "source": [
        "SPIKING = False"
      ],
      "metadata": {
        "id": "9RRTvAHi1B81"
      },
      "execution_count": 7,
      "outputs": []
    },
    {
      "cell_type": "code",
      "source": [
        "from tcn_lib import TCN\n",
        "from torchsummary import summary"
      ],
      "metadata": {
        "id": "3nI9RXTW1Ecy"
      },
      "execution_count": 8,
      "outputs": []
    },
    {
      "cell_type": "code",
      "source": [
        "if SPIKING:\n",
        "    model = SNN(\n",
        "        input_shape=(256, 201, 20),\n",
        "        neuron_type=\"RadLIF\",\n",
        "        layer_sizes=[1024, 1024, 200],\n",
        "        normalization=\"batchnorm\",\n",
        "        dropout=0.1,\n",
        "        bidirectional=False,\n",
        "        use_readout_layer=True,\n",
        "        ).to(device)\n",
        "\n",
        "    state_dict = torch.load(os.path.join(MODEL_SAVE_DIR, \"mswc_rsnn_proto\"),\n",
        "                        map_location=device)\n",
        "    model.load_state_dict(state_dict)\n",
        "else:\n",
        "    feature_count = 128\n",
        "\n",
        "    model = TCN(20, 200, [32] * 4, [9] * 4, batch_norm=True, dropout=0.1)\n",
        "\n",
        "    checkpoint = torch.load(\"./outputs/best_model.pth\", map_location=device)\n",
        "    model.load_state_dict(checkpoint['model_state_dict'])"
      ],
      "metadata": {
        "id": "iTrnrYop2Fgz"
      },
      "execution_count": 10,
      "outputs": []
    },
    {
      "cell_type": "code",
      "source": [
        "summary(model, (20, 200))"
      ],
      "metadata": {
        "colab": {
          "base_uri": "https://localhost:8080/"
        },
        "id": "xrJ8bIP-2Zkm",
        "outputId": "5fbdd8b5-8697-4065-c91d-a4af6db0fa43"
      },
      "execution_count": 11,
      "outputs": [
        {
          "output_type": "stream",
          "name": "stdout",
          "text": [
            "----------------------------------------------------------------\n",
            "        Layer (type)               Output Shape         Param #\n",
            "================================================================\n",
            "            Conv1d-1              [-1, 32, 208]           5,760\n",
            "       BatchNorm1d-2              [-1, 32, 208]              64\n",
            "           Chomp1d-3              [-1, 32, 200]               0\n",
            "              ReLU-4              [-1, 32, 200]               0\n",
            "           Dropout-5              [-1, 32, 200]               0\n",
            "            Conv1d-6              [-1, 32, 208]           9,216\n",
            "       BatchNorm1d-7              [-1, 32, 208]              64\n",
            "           Chomp1d-8              [-1, 32, 200]               0\n",
            "          Identity-9              [-1, 32, 200]               0\n",
            "          Dropout-10              [-1, 32, 200]               0\n",
            "           Conv1d-11              [-1, 32, 200]             640\n",
            "      BatchNorm1d-12              [-1, 32, 200]              64\n",
            "         Identity-13              [-1, 32, 200]               0\n",
            "          Dropout-14              [-1, 32, 200]               0\n",
            "             ReLU-15              [-1, 32, 200]               0\n",
            "    TemporalBlock-16              [-1, 32, 200]               0\n",
            "           Conv1d-17              [-1, 32, 216]           9,216\n",
            "      BatchNorm1d-18              [-1, 32, 216]              64\n",
            "          Chomp1d-19              [-1, 32, 200]               0\n",
            "             ReLU-20              [-1, 32, 200]               0\n",
            "          Dropout-21              [-1, 32, 200]               0\n",
            "           Conv1d-22              [-1, 32, 216]           9,216\n",
            "      BatchNorm1d-23              [-1, 32, 216]              64\n",
            "          Chomp1d-24              [-1, 32, 200]               0\n",
            "         Identity-25              [-1, 32, 200]               0\n",
            "          Dropout-26              [-1, 32, 200]               0\n",
            "             ReLU-27              [-1, 32, 200]               0\n",
            "    TemporalBlock-28              [-1, 32, 200]               0\n",
            "           Conv1d-29              [-1, 32, 232]           9,216\n",
            "      BatchNorm1d-30              [-1, 32, 232]              64\n",
            "          Chomp1d-31              [-1, 32, 200]               0\n",
            "             ReLU-32              [-1, 32, 200]               0\n",
            "          Dropout-33              [-1, 32, 200]               0\n",
            "           Conv1d-34              [-1, 32, 232]           9,216\n",
            "      BatchNorm1d-35              [-1, 32, 232]              64\n",
            "          Chomp1d-36              [-1, 32, 200]               0\n",
            "         Identity-37              [-1, 32, 200]               0\n",
            "          Dropout-38              [-1, 32, 200]               0\n",
            "             ReLU-39              [-1, 32, 200]               0\n",
            "    TemporalBlock-40              [-1, 32, 200]               0\n",
            "           Conv1d-41              [-1, 32, 264]           9,216\n",
            "      BatchNorm1d-42              [-1, 32, 264]              64\n",
            "          Chomp1d-43              [-1, 32, 200]               0\n",
            "             ReLU-44              [-1, 32, 200]               0\n",
            "          Dropout-45              [-1, 32, 200]               0\n",
            "           Conv1d-46              [-1, 32, 264]           9,216\n",
            "      BatchNorm1d-47              [-1, 32, 264]              64\n",
            "          Chomp1d-48              [-1, 32, 200]               0\n",
            "         Identity-49              [-1, 32, 200]               0\n",
            "          Dropout-50              [-1, 32, 200]               0\n",
            "             ReLU-51              [-1, 32, 200]               0\n",
            "    TemporalBlock-52              [-1, 32, 200]               0\n",
            "    LastElement1d-53                   [-1, 32]               0\n",
            "           Linear-54                  [-1, 200]           6,600\n",
            "================================================================\n",
            "Total params: 78,088\n",
            "Trainable params: 78,088\n",
            "Non-trainable params: 0\n",
            "----------------------------------------------------------------\n",
            "Input size (MB): 0.02\n",
            "Forward/backward pass size (MB): 2.66\n",
            "Params size (MB): 0.30\n",
            "Estimated Total Size (MB): 2.97\n",
            "----------------------------------------------------------------\n"
          ]
        }
      ]
    },
    {
      "cell_type": "code",
      "source": [
        "from neurobench.models import TorchModel\n",
        "\n",
        "model = TorchModel(model)"
      ],
      "metadata": {
        "id": "8Nx2liup2eSk"
      },
      "execution_count": 17,
      "outputs": []
    },
    {
      "cell_type": "code",
      "source": [
        "from neurobench.preprocessing import MFCCPreProcessor, S2SPreProcessor\n",
        "\n",
        "n_fft = 512\n",
        "win_length = None\n",
        "hop_length = 240\n",
        "n_mels = 20\n",
        "n_mfcc = 20\n",
        "\n",
        "if SPIKING:\n",
        "    encode = S2SPreProcessor(device, transpose=True)\n",
        "    config_change = {\"sample_rate\": 48000,\n",
        "                     \"hop_length\": 240}\n",
        "    encode.configure(threshold=1.0, **config_change)\n",
        "else:\n",
        "    encode = MFCCPreProcessor(\n",
        "        sample_rate=48000,\n",
        "        n_mfcc=n_mfcc,\n",
        "        melkwargs={\n",
        "            \"n_fft\": n_fft,\n",
        "            \"n_mels\": n_mels,\n",
        "            \"hop_length\": hop_length,\n",
        "            \"mel_scale\": \"htk\",\n",
        "            \"f_min\": 20,\n",
        "            \"f_max\": 4000,\n",
        "        },\n",
        "        device = device\n",
        "    )"
      ],
      "metadata": {
        "id": "u5ffR8c82jE-"
      },
      "execution_count": 18,
      "outputs": []
    },
    {
      "cell_type": "code",
      "source": [
        "base_train_set = MSWC(root=ROOT, subset=\"base\", procedure=\"training\")"
      ],
      "metadata": {
        "id": "cNUrqChf2mb9"
      },
      "execution_count": 19,
      "outputs": []
    },
    {
      "cell_type": "code",
      "source": [
        "train_loader = DataLoader(base_train_set, batch_size=500, num_workers=NUM_WORKERS, pin_memory=PIN_MEMORY)"
      ],
      "metadata": {
        "id": "aGavbcok2ovu"
      },
      "execution_count": 20,
      "outputs": []
    },
    {
      "cell_type": "code",
      "source": [
        "feature_count"
      ],
      "metadata": {
        "colab": {
          "base_uri": "https://localhost:8080/"
        },
        "id": "d2c1UBV3qv49",
        "outputId": "1b388d36-0392-4631-9a77-69cc3becfb9d"
      },
      "execution_count": 24,
      "outputs": [
        {
          "output_type": "execute_result",
          "data": {
            "text/plain": [
              "128"
            ]
          },
          "metadata": {},
          "execution_count": 24
        }
      ]
    },
    {
      "cell_type": "code",
      "source": [
        "# Set-up new proto readout layer\n",
        "if SPIKING:\n",
        "    output = model.net.snn[-1].W\n",
        "    proto_out = nn.Linear(output.weight.shape[1], 200, bias=True).to(device)\n",
        "    proto_out.weight.data = output.weight.data\n",
        "else:\n",
        "    output = model.net.fc\n",
        "    proto_out = nn.Linear(feature_count, 200, bias=True).to(device)\n",
        "    proto_out.weight.data = output.weight.data.clone()\n",
        "    proto_out.bias.data = output.bias.data.clone()\n"
      ],
      "metadata": {
        "id": "McHwI-EM2rOk"
      },
      "execution_count": 30,
      "outputs": []
    },
    {
      "cell_type": "code",
      "source": [
        "# Compute prototype weights for base classes\n",
        "\n",
        "for data, target in tqdm(train_loader):\n",
        "    data, target = encode((data.to(device), target.to(device)))\n",
        "    data = data.squeeze()\n",
        "    class_id = target[0]\n",
        "\n",
        "    if SPIKING:\n",
        "        features = data\n",
        "        for layer in model.net.snn[:-1]:\n",
        "            features = layer(features)\n",
        "\n",
        "        mean = torch.sum(features, dim=[0,1])/500\n",
        "        proto_out.weight.data[class_id] = 2*mean\n",
        "        proto_out.bias.data[class_id] = -torch.matmul(mean, mean.t())/features.shape[1]\n",
        "\n",
        "    else:\n",
        "\n",
        "        features = model.net.embedder(data)\n",
        "        mean = torch.sum(features, dim=0) / 500\n",
        "        proto_out.weight.data[class_id] = 2 * mean\n",
        "        proto_out.bias.data[class_id] = -torch.matmul(mean, mean.t())\n",
        "\n",
        "\n",
        "    del data\n",
        "    del features\n",
        "    del mean"
      ],
      "metadata": {
        "colab": {
          "base_uri": "https://localhost:8080/"
        },
        "id": "s3N2rwpZ2__q",
        "outputId": "0a4adf7d-46ee-4a55-f684-8f8a393b154a"
      },
      "execution_count": 32,
      "outputs": [
        {
          "output_type": "stream",
          "name": "stderr",
          "text": [
            "\r  0%|          | 0/100 [00:00<?, ?it/s]/usr/local/lib/python3.10/dist-packages/torch/utils/data/dataloader.py:558: UserWarning: This DataLoader will create 4 worker processes in total. Our suggested max number of worker in current system is 2, which is smaller than what this DataLoader is going to create. Please be aware that excessive worker creation might get DataLoader running slow or even freeze, lower the worker number to avoid potential slowness/freeze if necessary.\n",
            "  warnings.warn(_create_warning_msg(\n",
            "100%|██████████| 100/100 [05:52<00:00,  3.53s/it]\n"
          ]
        }
      ]
    },
    {
      "cell_type": "code",
      "source": [
        "# Replace pre-trained readout with prototypical layer\n",
        "if SPIKING:\n",
        "    model.net.snn[-1].W = proto_out\n",
        "else:\n",
        "    model.net.fc = proto_out\n",
        "\n",
        "del base_train_set\n",
        "del train_loader"
      ],
      "metadata": {
        "id": "x66yCgLK3CVl"
      },
      "execution_count": 33,
      "outputs": []
    },
    {
      "cell_type": "code",
      "source": [
        "# Copy model for evaluation\n",
        "eval_model = copy.deepcopy(model)\n",
        "\n",
        "# Get base test set for evaluation\n",
        "base_test_set = MSWC(root=ROOT, subset=\"base\", procedure=\"testing\")\n",
        "test_loader = DataLoader(base_test_set, batch_size=BATCH_SIZE, num_workers=NUM_WORKERS, pin_memory=PIN_MEMORY)\n",
        "\n",
        "# Put the model in evaluation mode\n",
        "eval_model.net.eval()"
      ],
      "metadata": {
        "colab": {
          "base_uri": "https://localhost:8080/"
        },
        "id": "328x0rrm3HCR",
        "outputId": "a2902dce-70d1-42da-b89f-06375b9888ca"
      },
      "execution_count": 34,
      "outputs": [
        {
          "output_type": "execute_result",
          "data": {
            "text/plain": [
              "TCN(\n",
              "  (embedder): Sequential(\n",
              "    (0): TemporalConvNet(\n",
              "      (0): TemporalBlock(\n",
              "        (temp_layer1): TemporalLayer(\n",
              "          (0): Conv1d(20, 32, kernel_size=(9,), stride=(1,), padding=(8,), bias=False)\n",
              "          (1): BatchNorm1d(32, eps=1e-05, momentum=0.1, affine=True, track_running_stats=True)\n",
              "          (2): Chomp1d()\n",
              "          (3): ReLU(inplace=True)\n",
              "          (4): Dropout(p=0.1, inplace=False)\n",
              "        )\n",
              "        (temp_layer2): TemporalLayer(\n",
              "          (0): Conv1d(32, 32, kernel_size=(9,), stride=(1,), padding=(8,), bias=False)\n",
              "          (1): BatchNorm1d(32, eps=1e-05, momentum=0.1, affine=True, track_running_stats=True)\n",
              "          (2): Chomp1d()\n",
              "          (3): Identity()\n",
              "          (4): Dropout(p=0.1, inplace=False)\n",
              "        )\n",
              "        (downsample): PointwiseLayer(\n",
              "          (0): Conv1d(20, 32, kernel_size=(1,), stride=(1,), bias=False)\n",
              "          (1): BatchNorm1d(32, eps=1e-05, momentum=0.1, affine=True, track_running_stats=True)\n",
              "          (2): Identity()\n",
              "          (3): Dropout(p=0.1, inplace=False)\n",
              "        )\n",
              "        (relu): ReLU(inplace=True)\n",
              "      )\n",
              "      (1): TemporalBlock(\n",
              "        (temp_layer1): TemporalLayer(\n",
              "          (0): Conv1d(32, 32, kernel_size=(9,), stride=(1,), padding=(16,), dilation=(2,), bias=False)\n",
              "          (1): BatchNorm1d(32, eps=1e-05, momentum=0.1, affine=True, track_running_stats=True)\n",
              "          (2): Chomp1d()\n",
              "          (3): ReLU(inplace=True)\n",
              "          (4): Dropout(p=0.1, inplace=False)\n",
              "        )\n",
              "        (temp_layer2): TemporalLayer(\n",
              "          (0): Conv1d(32, 32, kernel_size=(9,), stride=(1,), padding=(16,), dilation=(2,), bias=False)\n",
              "          (1): BatchNorm1d(32, eps=1e-05, momentum=0.1, affine=True, track_running_stats=True)\n",
              "          (2): Chomp1d()\n",
              "          (3): Identity()\n",
              "          (4): Dropout(p=0.1, inplace=False)\n",
              "        )\n",
              "        (relu): ReLU(inplace=True)\n",
              "      )\n",
              "      (2): TemporalBlock(\n",
              "        (temp_layer1): TemporalLayer(\n",
              "          (0): Conv1d(32, 32, kernel_size=(9,), stride=(1,), padding=(32,), dilation=(4,), bias=False)\n",
              "          (1): BatchNorm1d(32, eps=1e-05, momentum=0.1, affine=True, track_running_stats=True)\n",
              "          (2): Chomp1d()\n",
              "          (3): ReLU(inplace=True)\n",
              "          (4): Dropout(p=0.1, inplace=False)\n",
              "        )\n",
              "        (temp_layer2): TemporalLayer(\n",
              "          (0): Conv1d(32, 32, kernel_size=(9,), stride=(1,), padding=(32,), dilation=(4,), bias=False)\n",
              "          (1): BatchNorm1d(32, eps=1e-05, momentum=0.1, affine=True, track_running_stats=True)\n",
              "          (2): Chomp1d()\n",
              "          (3): Identity()\n",
              "          (4): Dropout(p=0.1, inplace=False)\n",
              "        )\n",
              "        (relu): ReLU(inplace=True)\n",
              "      )\n",
              "      (3): TemporalBlock(\n",
              "        (temp_layer1): TemporalLayer(\n",
              "          (0): Conv1d(32, 32, kernel_size=(9,), stride=(1,), padding=(64,), dilation=(8,), bias=False)\n",
              "          (1): BatchNorm1d(32, eps=1e-05, momentum=0.1, affine=True, track_running_stats=True)\n",
              "          (2): Chomp1d()\n",
              "          (3): ReLU(inplace=True)\n",
              "          (4): Dropout(p=0.1, inplace=False)\n",
              "        )\n",
              "        (temp_layer2): TemporalLayer(\n",
              "          (0): Conv1d(32, 32, kernel_size=(9,), stride=(1,), padding=(64,), dilation=(8,), bias=False)\n",
              "          (1): BatchNorm1d(32, eps=1e-05, momentum=0.1, affine=True, track_running_stats=True)\n",
              "          (2): Chomp1d()\n",
              "          (3): Identity()\n",
              "          (4): Dropout(p=0.1, inplace=False)\n",
              "        )\n",
              "        (relu): ReLU(inplace=True)\n",
              "      )\n",
              "    )\n",
              "    (1): LastElement1d()\n",
              "  )\n",
              "  (fc): Linear(in_features=128, out_features=200, bias=True)\n",
              ")"
            ]
          },
          "metadata": {},
          "execution_count": 34
        }
      ]
    },
    {
      "cell_type": "code",
      "source": [
        "squeeze = lambda x: (x[0].squeeze(), x[1])\n",
        "out2pred = lambda x: torch.argmax(x, dim=-1)\n",
        "to_device = lambda x: (x[0].to(device), x[1].to(device))"
      ],
      "metadata": {
        "id": "5sN7Wi543Hvq"
      },
      "execution_count": 35,
      "outputs": []
    },
    {
      "cell_type": "code",
      "source": [
        "# Define specific post-processing with masking on the base classes\n",
        "mask = torch.full((200,), float('inf')).to(device)\n",
        "mask[torch.arange(0,100, dtype=int)] = 0\n",
        "out_mask = lambda x: x - mask"
      ],
      "metadata": {
        "id": "aBHWOGpX3Hz2"
      },
      "execution_count": 36,
      "outputs": []
    },
    {
      "cell_type": "code",
      "source": [
        "# Metrics\n",
        "static_metrics = [\"footprint\", \"connection_sparsity\"]\n",
        "workload_metrics = [\"classification_accuracy\", \"activation_sparsity\", \"synaptic_operations\"]\n",
        "\n",
        "# Define benchmark object\n",
        "benchmark_all_test = Benchmark(eval_model, metric_list=[static_metrics, workload_metrics],\n",
        "                               dataloader=test_loader,\n",
        "                               preprocessors=[to_device, encode, squeeze], postprocessors=[])"
      ],
      "metadata": {
        "id": "dxeLSs8w3H24"
      },
      "execution_count": 37,
      "outputs": []
    },
    {
      "cell_type": "code",
      "source": [
        "pre_train_results = benchmark_all_test.run(postprocessors=[out_mask, F.softmax, out2pred, torch.squeeze])\n",
        "\n",
        "print(\"Base results:\", pre_train_results)\n",
        "\n",
        "print(f\"The base accuracy is {pre_train_results['classification_accuracy']*100}%\")"
      ],
      "metadata": {
        "colab": {
          "base_uri": "https://localhost:8080/"
        },
        "id": "_dH7rpVA9asK",
        "outputId": "6441967a-9c0b-4ee8-b4c3-5a8afe489d97"
      },
      "execution_count": 38,
      "outputs": [
        {
          "output_type": "stream",
          "name": "stdout",
          "text": [
            "Running benchmark\n"
          ]
        },
        {
          "output_type": "stream",
          "name": "stderr",
          "text": [
            "\r  0%|          | 0/40 [00:00<?, ?it/s]/usr/local/lib/python3.10/dist-packages/neurobench/benchmarks/benchmark.py:120: UserWarning: Implicit dimension choice for softmax has been deprecated. Change the call to include dim=X as an argument.\n",
            "  preds = alg(preds)\n",
            "100%|██████████| 40/40 [02:06<00:00,  3.16s/it]"
          ]
        },
        {
          "output_type": "stream",
          "name": "stdout",
          "text": [
            "Base results: {'footprint': 314728, 'connection_sparsity': 0.0, 'classification_accuracy': 0.9289, 'activation_sparsity': 0.5033425664645522, 'synaptic_operations': {'Effective_MACs': 7236257.82, 'Effective_ACs': 0.0, 'Dense': 14259712.0}}\n",
            "The base accuracy is 92.89%\n"
          ]
        },
        {
          "output_type": "stream",
          "name": "stderr",
          "text": [
            "\n"
          ]
        }
      ]
    },
    {
      "cell_type": "code",
      "source": [
        "# IncrementalFewShot Dataloader used in incremental mode to generate class-incremental sessions\n",
        "few_shot_dataloader = IncrementalFewShot(k_shot=NUM_SHOTS,\n",
        "                            root = ROOT,\n",
        "                            query_shots=100,\n",
        "                            support_query_split=(100,100))"
      ],
      "metadata": {
        "id": "XW2Jqb3G9eMV"
      },
      "execution_count": 39,
      "outputs": []
    },
    {
      "cell_type": "code",
      "source": [
        "support, query, query_classes = next(iter(few_shot_dataloader))"
      ],
      "metadata": {
        "id": "3xS1Sgcj-Ahm"
      },
      "execution_count": 40,
      "outputs": []
    },
    {
      "cell_type": "code",
      "source": [
        "data = None\n",
        "\n",
        "for X_shot, y_shot in support:\n",
        "    if data is None:\n",
        "        data = X_shot\n",
        "        target = y_shot\n",
        "    else:\n",
        "        data = torch.cat((data,X_shot), 0)\n",
        "        target = torch.cat((target,y_shot), 0)\n",
        "\n",
        "data, target = encode((data.to(device), target.to(device)))\n",
        "data = data.squeeze()\n",
        "\n",
        "new_classes = y_shot.tolist()\n",
        "Nways = len(y_shot) # Number of ways of one batch, should always be 10"
      ],
      "metadata": {
        "id": "OlTicN_B-Csi"
      },
      "execution_count": 41,
      "outputs": []
    },
    {
      "cell_type": "code",
      "source": [
        "if SPIKING:\n",
        "    features = eval_model.net.snn[0](data)\n",
        "    features = eval_model.net.snn[1](features)\n",
        "\n",
        "    for index, class_id in enumerate(new_classes):\n",
        "        mean = torch.sum(features[[i*Nways+index for i in range(NUM_SHOTS)]], dim=[0,1])/NUM_SHOTS\n",
        "        eval_model.net.snn[-1].W.weight.data[class_id] = 2*mean\n",
        "        eval_model.net.snn[-1].W.bias.data[class_id] = -torch.matmul(mean, mean.t())/(features.shape[1])\n",
        "else:\n",
        "    features = eval_model.net.embedder(data)\n",
        "\n",
        "    for index, class_id in enumerate(new_classes):\n",
        "\n",
        "        mean = torch.sum(features[[i*Nways+index for i in range(NUM_SHOTS)]], dim=0)/NUM_SHOTS\n",
        "        eval_model.net.fc.weight.data[class_id] = 2*mean\n",
        "        eval_model.net.fc.bias.data[class_id] = -torch.matmul(mean, mean.t())"
      ],
      "metadata": {
        "id": "r1twrhtA-GI7"
      },
      "execution_count": 45,
      "outputs": []
    },
    {
      "cell_type": "code",
      "source": [
        "# Define benchmark object for incremental classes\n",
        "benchmark_new_classes = Benchmark(eval_model, metric_list=[[],[\"classification_accuracy\"]],\n",
        "                                  dataloader=None,\n",
        "                                  preprocessors=[to_device, encode, squeeze], postprocessors=[])\n",
        "\n",
        "### Testing phase ###\n",
        "eval_model.net.eval()\n",
        "\n",
        "# Define session dataloaders for query and query + base_test samples\n",
        "query_loader = DataLoader(query, batch_size=BATCH_SIZE, num_workers=NUM_WORKERS)\n",
        "\n",
        "full_session_test_set = ConcatDataset([base_test_set, query])\n",
        "full_session_test_loader = DataLoader(full_session_test_set, batch_size=BATCH_SIZE, num_workers=NUM_WORKERS)\n",
        "\n",
        "# Create a mask function to only consider accuracy on classes presented so far\n",
        "session_classes = torch.cat((torch.arange(0,100, dtype=int), torch.IntTensor(query_classes)))\n",
        "mask = torch.full((200,), float('inf')).to(device)\n",
        "mask[session_classes] = 0\n",
        "out_mask = lambda x: x - mask\n",
        "\n",
        "\n",
        "# Run benchmark on query classes only\n",
        "query_results = benchmark_new_classes.run(dataloader = query_loader,\n",
        "                                          postprocessors=[out_mask, F.softmax, out2pred, torch.squeeze])\n",
        "print(f\"Accuracy on new classes: {query_results['classification_accuracy']*100} %\")\n",
        "\n",
        "# Run benchmark to evaluate accuracy of this specific session\n",
        "session_results = benchmark_all_test.run(dataloader = full_session_test_loader,\n",
        "                                         postprocessors=[out_mask, F.softmax, out2pred, torch.squeeze])\n",
        "print(f\"Session accuracy: {session_results['classification_accuracy']*100} %\")"
      ],
      "metadata": {
        "colab": {
          "base_uri": "https://localhost:8080/"
        },
        "id": "e6Z6xGDp-JkK",
        "outputId": "cbc1da5a-6500-46cd-a4e0-a1f71b281882"
      },
      "execution_count": 46,
      "outputs": [
        {
          "output_type": "stream",
          "name": "stderr",
          "text": [
            "/usr/local/lib/python3.10/dist-packages/torch/utils/data/dataloader.py:558: UserWarning: This DataLoader will create 4 worker processes in total. Our suggested max number of worker in current system is 2, which is smaller than what this DataLoader is going to create. Please be aware that excessive worker creation might get DataLoader running slow or even freeze, lower the worker number to avoid potential slowness/freeze if necessary.\n",
            "  warnings.warn(_create_warning_msg(\n"
          ]
        },
        {
          "output_type": "stream",
          "name": "stdout",
          "text": [
            "Running benchmark\n"
          ]
        },
        {
          "output_type": "stream",
          "name": "stderr",
          "text": [
            "  0%|          | 0/4 [00:00<?, ?it/s]/usr/local/lib/python3.10/dist-packages/neurobench/benchmarks/benchmark.py:120: UserWarning: Implicit dimension choice for softmax has been deprecated. Change the call to include dim=X as an argument.\n",
            "  preds = alg(preds)\n",
            "100%|██████████| 4/4 [00:15<00:00,  3.95s/it]\n"
          ]
        },
        {
          "output_type": "stream",
          "name": "stdout",
          "text": [
            "Accuracy on new classes: 72.19999957084656 %\n",
            "Running benchmark\n"
          ]
        },
        {
          "output_type": "stream",
          "name": "stderr",
          "text": [
            "100%|██████████| 43/43 [02:21<00:00,  3.29s/it]"
          ]
        },
        {
          "output_type": "stream",
          "name": "stdout",
          "text": [
            "Session accuracy: 89.61818179650737 %\n"
          ]
        },
        {
          "output_type": "stream",
          "name": "stderr",
          "text": [
            "\n"
          ]
        }
      ]
    },
    {
      "cell_type": "code",
      "source": [
        "# variable to store accuracy\n",
        "acc = []\n",
        "acc_new_classes = []\n",
        "\n",
        "# Iteration over incremental sessions\n",
        "for session, (support, query, query_classes) in enumerate(few_shot_dataloader):\n",
        "    print(f\"Session: {session+1}\")\n",
        "\n",
        "    ### Computing new Prototypical Weights ###\n",
        "    data = None\n",
        "\n",
        "    for X_shot, y_shot in support:\n",
        "        if data is None:\n",
        "            data = X_shot\n",
        "            target = y_shot\n",
        "        else:\n",
        "            data = torch.cat((data,X_shot), 0)\n",
        "            target = torch.cat((target,y_shot), 0)\n",
        "\n",
        "    data, target = encode((data.to(device), target.to(device)))\n",
        "    data = data.squeeze()\n",
        "\n",
        "    new_classes = y_shot.tolist()\n",
        "    Nways = len(y_shot) # Number of ways, should always be 10\n",
        "\n",
        "    if SPIKING:\n",
        "        features = eval_model.net.snn[0](data)\n",
        "        features = eval_model.net.snn[1](features)\n",
        "\n",
        "        for index, class_id in enumerate(new_classes):\n",
        "            mean = torch.sum(features[[i*Nways+index for i in range(NUM_SHOTS)]], dim=[0,1])/NUM_SHOTS\n",
        "            eval_model.net.snn[-1].W.weight.data[class_id] = 2*mean\n",
        "            eval_model.net.snn[-1].W.bias.data[class_id] = -torch.matmul(mean, mean.t())/(features.shape[1])\n",
        "    else:\n",
        "        features = eval_model.net.embedder(data)\n",
        "\n",
        "        for index, class_id in enumerate(new_classes):\n",
        "            mean = torch.sum(features[[i * Nways + index for i in range(NUM_SHOTS)]], dim=0) / NUM_SHOTS\n",
        "            eval_model.net.fc.weight.data[class_id] = 2 * mean\n",
        "            eval_model.net.fc.bias.data[class_id] = -torch.matmul(mean, mean.t())\n",
        "\n",
        "\n",
        "    ### Testing phase ###\n",
        "    eval_model.net.eval()\n",
        "\n",
        "    # Define session dataloaders for query and query + base_test samples\n",
        "    query_loader = DataLoader(query, batch_size=BATCH_SIZE, num_workers=NUM_WORKERS)\n",
        "\n",
        "    full_session_test_set = ConcatDataset([base_test_set, query])\n",
        "    full_session_test_loader = DataLoader(full_session_test_set, batch_size=BATCH_SIZE, num_workers=NUM_WORKERS)\n",
        "\n",
        "    # Create a mask function to only consider accuracy on classes presented so far\n",
        "    session_classes = torch.cat((torch.arange(0,100, dtype=int), torch.IntTensor(query_classes)))\n",
        "    mask = torch.full((200,), float('inf')).to(device)\n",
        "    mask[session_classes] = 0\n",
        "    out_mask = lambda x: x - mask\n",
        "\n",
        "    # Run benchmark on query classes only\n",
        "    query_results = benchmark_new_classes.run(dataloader = query_loader, postprocessors=[out_mask, F.softmax, out2pred, torch.squeeze])\n",
        "    print(f\"Accuracy on new classes: {query_results['classification_accuracy']*100} %\")\n",
        "\n",
        "    # Run benchmark to evaluate accuracy of this specific session\n",
        "    session_results = benchmark_all_test.run(dataloader = full_session_test_loader, postprocessors=[out_mask, F.softmax, out2pred, torch.squeeze])\n",
        "    print(f\"Session accuracy: {session_results['classification_accuracy']*100} %\")\n",
        "    print(\"Session results:\", session_results)\n",
        "    acc.append(session_results['classification_accuracy'] * 100)\n",
        "    acc_new_classes.append(query_results['classification_accuracy'] * 100)\n",
        "\n",
        "\n",
        "print(f\"Accuracy over all sessions: {acc}\")\n",
        "\n",
        "print(acc)\n",
        "import matplotlib.pyplot as plt\n",
        "plt.plot(acc, color='blue')\n",
        "# plt.plot(acc_given_data_set, color='red')\n",
        "plt.ylabel('Accuracy')\n",
        "plt.xlabel('Session')\n",
        "plt.title('Accuracy over all sessions')\n",
        "\n",
        "plt.show()"
      ],
      "metadata": {
        "colab": {
          "base_uri": "https://localhost:8080/",
          "height": 1000
        },
        "id": "n7czvym_AD0i",
        "outputId": "ef90fd19-1fbe-4116-9b24-af06f64a5511"
      },
      "execution_count": 47,
      "outputs": [
        {
          "output_type": "stream",
          "name": "stdout",
          "text": [
            "Session: 1\n",
            "Running benchmark\n"
          ]
        },
        {
          "output_type": "stream",
          "name": "stderr",
          "text": [
            "100%|██████████| 4/4 [00:13<00:00,  3.32s/it]\n"
          ]
        },
        {
          "output_type": "stream",
          "name": "stdout",
          "text": [
            "Accuracy on new classes: 74.19999980926515 %\n",
            "Running benchmark\n"
          ]
        },
        {
          "output_type": "stream",
          "name": "stderr",
          "text": [
            "100%|██████████| 43/43 [02:19<00:00,  3.25s/it]\n"
          ]
        },
        {
          "output_type": "stream",
          "name": "stdout",
          "text": [
            "Session accuracy: 90.58181813413451 %\n",
            "Session results: {'footprint': 314728, 'connection_sparsity': 0.0003, 'classification_accuracy': 0.9058181813413451, 'activation_sparsity': 0.5032733597636815, 'synaptic_operations': {'Effective_MACs': 7237343.240636364, 'Effective_ACs': 0.0, 'Dense': 14259712.0}}\n",
            "Session: 2\n",
            "Running benchmark\n"
          ]
        },
        {
          "output_type": "stream",
          "name": "stderr",
          "text": [
            "100%|██████████| 8/8 [00:21<00:00,  2.74s/it]\n"
          ]
        },
        {
          "output_type": "stream",
          "name": "stdout",
          "text": [
            "Accuracy on new classes: 73.85000019073486 %\n",
            "Running benchmark\n"
          ]
        },
        {
          "output_type": "stream",
          "name": "stderr",
          "text": [
            "100%|██████████| 47/47 [02:36<00:00,  3.33s/it]\n"
          ]
        },
        {
          "output_type": "stream",
          "name": "stdout",
          "text": [
            "Session accuracy: 88.68333330154424 %\n",
            "Session results: {'footprint': 314728, 'connection_sparsity': 0.0006, 'classification_accuracy': 0.8868333330154424, 'activation_sparsity': 0.5032060579265133, 'synaptic_operations': {'Effective_MACs': 7238057.003, 'Effective_ACs': 0.0, 'Dense': 14259712.0}}\n",
            "Session: 3\n",
            "Running benchmark\n"
          ]
        },
        {
          "output_type": "stream",
          "name": "stderr",
          "text": [
            "100%|██████████| 12/12 [00:28<00:00,  2.35s/it]\n"
          ]
        },
        {
          "output_type": "stream",
          "name": "stdout",
          "text": [
            "Accuracy on new classes: 73.33333344459533 %\n",
            "Running benchmark\n"
          ]
        },
        {
          "output_type": "stream",
          "name": "stderr",
          "text": [
            "100%|██████████| 51/51 [02:45<00:00,  3.24s/it]\n"
          ]
        },
        {
          "output_type": "stream",
          "name": "stdout",
          "text": [
            "Session accuracy: 86.87692309526297 %\n",
            "Session results: {'footprint': 314728, 'connection_sparsity': 0.0007, 'classification_accuracy': 0.8687692309526297, 'activation_sparsity': 0.5029596578406047, 'synaptic_operations': {'Effective_MACs': 7240197.432, 'Effective_ACs': 0.0, 'Dense': 14259712.0}}\n",
            "Session: 4\n",
            "Running benchmark\n"
          ]
        },
        {
          "output_type": "stream",
          "name": "stderr",
          "text": [
            "100%|██████████| 16/16 [00:35<00:00,  2.22s/it]\n"
          ]
        },
        {
          "output_type": "stream",
          "name": "stdout",
          "text": [
            "Accuracy on new classes: 71.24999995231627 %\n",
            "Running benchmark\n"
          ]
        },
        {
          "output_type": "stream",
          "name": "stderr",
          "text": [
            "100%|██████████| 55/55 [03:04<00:00,  3.35s/it]\n"
          ]
        },
        {
          "output_type": "stream",
          "name": "stdout",
          "text": [
            "Session accuracy: 84.38571427209037 %\n",
            "Session results: {'footprint': 314728, 'connection_sparsity': 0.0007, 'classification_accuracy': 0.8438571427209036, 'activation_sparsity': 0.502542355188344, 'synaptic_operations': {'Effective_MACs': 7242700.578642857, 'Effective_ACs': 0.0, 'Dense': 14259712.0}}\n",
            "Session: 5\n",
            "Running benchmark\n"
          ]
        },
        {
          "output_type": "stream",
          "name": "stderr",
          "text": [
            "100%|██████████| 20/20 [00:42<00:00,  2.12s/it]\n"
          ]
        },
        {
          "output_type": "stream",
          "name": "stdout",
          "text": [
            "Accuracy on new classes: 69.38000003814699 %\n",
            "Running benchmark\n"
          ]
        },
        {
          "output_type": "stream",
          "name": "stderr",
          "text": [
            "100%|██████████| 59/59 [03:16<00:00,  3.32s/it]\n"
          ]
        },
        {
          "output_type": "stream",
          "name": "stdout",
          "text": [
            "Session accuracy: 82.65333333333332 %\n",
            "Session results: {'footprint': 314728, 'connection_sparsity': 0.001, 'classification_accuracy': 0.8265333333333332, 'activation_sparsity': 0.5023763539075456, 'synaptic_operations': {'Effective_MACs': 7244870.1952, 'Effective_ACs': 0.0, 'Dense': 14259712.0}}\n",
            "Session: 6\n",
            "Running benchmark\n"
          ]
        },
        {
          "output_type": "stream",
          "name": "stderr",
          "text": [
            "100%|██████████| 24/24 [00:51<00:00,  2.15s/it]\n"
          ]
        },
        {
          "output_type": "stream",
          "name": "stdout",
          "text": [
            "Accuracy on new classes: 70.26666668256124 %\n",
            "Running benchmark\n"
          ]
        },
        {
          "output_type": "stream",
          "name": "stderr",
          "text": [
            "100%|██████████| 63/63 [03:28<00:00,  3.30s/it]\n"
          ]
        },
        {
          "output_type": "stream",
          "name": "stdout",
          "text": [
            "Session accuracy: 82.0625 %\n",
            "Session results: {'footprint': 314728, 'connection_sparsity': 0.0012, 'classification_accuracy': 0.8206249999999999, 'activation_sparsity': 0.5025105247687345, 'synaptic_operations': {'Effective_MACs': 7243575.23475, 'Effective_ACs': 0.0, 'Dense': 14259712.0}}\n",
            "Session: 7\n",
            "Running benchmark\n"
          ]
        },
        {
          "output_type": "stream",
          "name": "stderr",
          "text": [
            "100%|██████████| 28/28 [00:56<00:00,  2.00s/it]\n"
          ]
        },
        {
          "output_type": "stream",
          "name": "stdout",
          "text": [
            "Accuracy on new classes: 70.05714285714284 %\n",
            "Running benchmark\n"
          ]
        },
        {
          "output_type": "stream",
          "name": "stderr",
          "text": [
            "100%|██████████| 67/67 [03:33<00:00,  3.18s/it]\n"
          ]
        },
        {
          "output_type": "stream",
          "name": "stdout",
          "text": [
            "Session accuracy: 81.18235293276169 %\n",
            "Session results: {'footprint': 314728, 'connection_sparsity': 0.0013, 'classification_accuracy': 0.8118235293276169, 'activation_sparsity': 0.502384044849283, 'synaptic_operations': {'Effective_MACs': 7244334.891764706, 'Effective_ACs': 0.0, 'Dense': 14259712.0}}\n",
            "Session: 8\n",
            "Running benchmark\n"
          ]
        },
        {
          "output_type": "stream",
          "name": "stderr",
          "text": [
            "100%|██████████| 32/32 [01:00<00:00,  1.89s/it]\n"
          ]
        },
        {
          "output_type": "stream",
          "name": "stdout",
          "text": [
            "Accuracy on new classes: 68.97499999999998 %\n",
            "Running benchmark\n"
          ]
        },
        {
          "output_type": "stream",
          "name": "stderr",
          "text": [
            "100%|██████████| 71/71 [03:45<00:00,  3.18s/it]\n"
          ]
        },
        {
          "output_type": "stream",
          "name": "stdout",
          "text": [
            "Session accuracy: 79.95 %\n",
            "Session results: {'footprint': 314728, 'connection_sparsity': 0.0016, 'classification_accuracy': 0.7995, 'activation_sparsity': 0.5021908199885986, 'synaptic_operations': {'Effective_MACs': 7247391.4043333335, 'Effective_ACs': 0.0, 'Dense': 14259712.0}}\n",
            "Session: 9\n",
            "Running benchmark\n"
          ]
        },
        {
          "output_type": "stream",
          "name": "stderr",
          "text": [
            "100%|██████████| 36/36 [01:05<00:00,  1.81s/it]\n"
          ]
        },
        {
          "output_type": "stream",
          "name": "stdout",
          "text": [
            "Accuracy on new classes: 68.25555555025737 %\n",
            "Running benchmark\n"
          ]
        },
        {
          "output_type": "stream",
          "name": "stderr",
          "text": [
            "100%|██████████| 75/75 [03:55<00:00,  3.14s/it]\n"
          ]
        },
        {
          "output_type": "stream",
          "name": "stdout",
          "text": [
            "Session accuracy: 78.91052631829916 %\n",
            "Session results: {'footprint': 314728, 'connection_sparsity': 0.0018, 'classification_accuracy': 0.7891052631829916, 'activation_sparsity': 0.502125319128044, 'synaptic_operations': {'Effective_MACs': 7248725.380789474, 'Effective_ACs': 0.0, 'Dense': 14259712.0}}\n",
            "Session: 10\n",
            "Running benchmark\n"
          ]
        },
        {
          "output_type": "stream",
          "name": "stderr",
          "text": [
            "100%|██████████| 40/40 [01:11<00:00,  1.79s/it]\n"
          ]
        },
        {
          "output_type": "stream",
          "name": "stdout",
          "text": [
            "Accuracy on new classes: 67.11999999999999 %\n",
            "Running benchmark\n"
          ]
        },
        {
          "output_type": "stream",
          "name": "stderr",
          "text": [
            "100%|██████████| 79/79 [04:30<00:00,  3.42s/it]\n"
          ]
        },
        {
          "output_type": "stream",
          "name": "stdout",
          "text": [
            "Session accuracy: 77.71000000000004 %\n",
            "Session results: {'footprint': 314728, 'connection_sparsity': 0.002, 'classification_accuracy': 0.7771000000000003, 'activation_sparsity': 0.502184558652052, 'synaptic_operations': {'Effective_MACs': 7249238.82435, 'Effective_ACs': 0.0, 'Dense': 14259712.0}}\n",
            "Accuracy over all sessions: [90.58181813413451, 88.68333330154424, 86.87692309526297, 84.38571427209037, 82.65333333333332, 82.0625, 81.18235293276169, 79.95, 78.91052631829916, 77.71000000000004]\n",
            "[90.58181813413451, 88.68333330154424, 86.87692309526297, 84.38571427209037, 82.65333333333332, 82.0625, 81.18235293276169, 79.95, 78.91052631829916, 77.71000000000004]\n"
          ]
        },
        {
          "output_type": "display_data",
          "data": {
            "text/plain": [
              "<Figure size 640x480 with 1 Axes>"
            ],
            "image/png": "[encoded data removed]"
          },
          "metadata": {}
        }
      ]
    },
    {
      "cell_type": "code",
      "source": [
        "import matplotlib.pyplot as plt\n",
        "import numpy as np\n",
        "\n",
        "sessions = np.arange(1, 11, 1)\n",
        "fig, axs = plt.subplots(1, 2, figsize=(12, 6))\n",
        "\n",
        "axs[0].plot(sessions, acc, \"-o\", color=\"#386cb0\")\n",
        "axs[0].set_xticks(sessions)\n",
        "axs[0].set_ylim((40, 100))\n",
        "axs[0].set_ylabel('Accuracy (%)')\n",
        "axs[0].set_xlabel('Session')\n",
        "axs[0].set_title('All Classes Performance')\n",
        "axs[0].grid(True)\n",
        "\n",
        "axs[1].plot(sessions, acc_new_classes, \"-o\", color=\"#ff7f00\")\n",
        "axs[1].set_xticks(sessions)\n",
        "axs[1].set_ylim((40, 100))\n",
        "axs[1].set_ylabel('Accuracy (%)')\n",
        "axs[1].set_xlabel('Session')\n",
        "axs[1].set_title('New Classes Performance')\n",
        "axs[1].grid(True)\n",
        "\n",
        "plt.tight_layout(rect=[0, 0, 1, 0.90])\n",
        "fig.suptitle('Incremental Sessions for TCN', fontsize=16)\n",
        "\n",
        "plt.savefig(\"outputs/TCN_performance_plots.png\", dpi=300)\n",
        "\n",
        "plt.show()\n"
      ],
      "metadata": {
        "id": "Ghe0PvUuBXua",
        "colab": {
          "base_uri": "https://localhost:8080/",
          "height": 609
        },
        "outputId": "64ae9baa-6622-407d-ae7d-795c2fa3d3b4"
      },
      "execution_count": 58,
      "outputs": [
        {
          "output_type": "display_data",
          "data": {
            "text/plain": [
              "<Figure size 1200x600 with 2 Axes>"
            ],
            "image/png": "[encoded data removed]"
          },
          "metadata": {}
        }
      ]
    },
    {
      "cell_type": "code",
      "source": [
        "sessions = np.arange(1, 11, 1)\n",
        "\n",
        "plt.figure(figsize=(10, 6))\n",
        "\n",
        "plt.plot(sessions, acc, \"-o\", color=\"#386cb0\", label='All Classes')\n",
        "\n",
        "plt.plot(sessions, acc_new_classes, \"-o\", color=\"#ff7f00\", label='New Classes')\n",
        "\n",
        "plt.xticks(sessions)\n",
        "\n",
        "plt.ylim((40, 100))\n",
        "\n",
        "plt.ylabel('Accuracy (%)')\n",
        "plt.xlabel('Sessions')\n",
        "plt.title('Incremental Sessions for TCN')\n",
        "\n",
        "plt.grid(True)\n",
        "plt.legend()\n",
        "plt.savefig(\"outputs/TCN_performance_plot2.png\", dpi=300)\n",
        "plt.show()\n"
      ],
      "metadata": {
        "colab": {
          "base_uri": "https://localhost:8080/",
          "height": 564
        },
        "id": "gcXUU9zQ8Isd",
        "outputId": "59c7aaf9-8b8a-4740-9893-474c2eb210a7"
      },
      "execution_count": 57,
      "outputs": [
        {
          "output_type": "display_data",
          "data": {
            "text/plain": [
              "<Figure size 1000x600 with 1 Axes>"
            ],
            "image/png": "[encoded data removed]"
          },
          "metadata": {}
        }
      ]
    },
    {
      "cell_type": "code",
      "source": [],
      "metadata": {
        "id": "0PVYVRSu9pKT"
      },
      "execution_count": null,
      "outputs": []
    }
  ]
}